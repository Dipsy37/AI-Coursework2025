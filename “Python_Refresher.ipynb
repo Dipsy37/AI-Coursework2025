{
  "nbformat": 4,
  "nbformat_minor": 0,
  "metadata": {
    "colab": {
      "provenance": []
    },
    "kernelspec": {
      "name": "python3",
      "display_name": "Python 3"
    },
    "language_info": {
      "name": "python"
    }
  },
  "cells": [
    {
      "cell_type": "code",
      "source": [
        "days = int(input(\"Enter the number of days: \"))\n",
        "seconds = days * 24 * 60 * 60\n",
        "print(\"There are\", seconds , \"seconds in\", days, \"days\")"
      ],
      "metadata": {
        "colab": {
          "base_uri": "https://localhost:8080/"
        },
        "id": "mlCCrWik_HM4",
        "outputId": "e629ecbf-c09c-4287-aea0-92e5fe05a463"
      },
      "execution_count": 4,
      "outputs": [
        {
          "output_type": "stream",
          "name": "stdout",
          "text": [
            "Enter the number of days: 5\n",
            "There are 432000 seconds in 5 days\n"
          ]
        }
      ]
    },
    {
      "cell_type": "code",
      "source": [
        "import math\n",
        "radius = float(input(\"Enter the radius: \"))\n",
        "volume = (4/3) * math.pi * (radius ** 3)\n",
        "print(\"The volume of the sphere is\",volume)\n"
      ],
      "metadata": {
        "colab": {
          "base_uri": "https://localhost:8080/"
        },
        "id": "nPGVUPcEAR6J",
        "outputId": "678c581d-97df-444e-e87a-18a1f0ba0091"
      },
      "execution_count": 6,
      "outputs": [
        {
          "output_type": "stream",
          "name": "stdout",
          "text": [
            "Enter the radius: 21\n",
            "The volume of the sphere is 38792.38608652676\n"
          ]
        }
      ]
    },
    {
      "cell_type": "code",
      "source": [
        "length = float(input(\"Enter length of square: \"))\n",
        "\n",
        "def area_square(length):\n",
        "  return length * length\n",
        "\n",
        "def perimeter_square(length):\n",
        "  return length * 4\n",
        "\n",
        "\n",
        "def main():\n",
        "  area = area_square(length)\n",
        "  perimeter = perimeter_square(length)\n",
        "  print(\"The area of the square is\",area)\n",
        "  print(\"The perimeter of the sphere is\",perimeter)\n",
        "\n",
        "main()\n",
        "\n",
        "\n",
        ""
      ],
      "metadata": {
        "colab": {
          "base_uri": "https://localhost:8080/"
        },
        "id": "rNIL0R_FBDNV",
        "outputId": "73442960-1605-49ab-8cb1-15761d76558c"
      },
      "execution_count": 16,
      "outputs": [
        {
          "output_type": "stream",
          "name": "stdout",
          "text": [
            "Enter length of square: 16\n",
            "The area of the square is 256.0\n",
            "The perimeter of the sphere is 64.0\n"
          ]
        }
      ]
    },
    {
      "cell_type": "code",
      "source": [
        "check = input(\"Enter a character: \")\n",
        "\n",
        "def uppercase(ch):\n",
        "    return ch.isupper()\n",
        "\n",
        "def lowercase(ch):\n",
        "    return ch.islower()\n",
        "\n",
        "def main():\n",
        "    if uppercase(check):\n",
        "        print(\"The character\", check, \"is uppercase.\")\n",
        "    elif lowercase(check):\n",
        "        print(\"The character\", check, \"is lowercase.\")\n",
        "    else:\n",
        "        print(check, \"is not an alphabetic character.\")\n",
        "\n",
        "main()\n"
      ],
      "metadata": {
        "colab": {
          "base_uri": "https://localhost:8080/"
        },
        "id": "f3_Xr_qgCYNM",
        "outputId": "9345eee3-e17d-4128-f91f-e01471ff4f99"
      },
      "execution_count": 32,
      "outputs": [
        {
          "output_type": "stream",
          "name": "stdout",
          "text": [
            "Enter a character: 6\n",
            "6 is not an alphabetic character.\n"
          ]
        }
      ]
    },
    {
      "cell_type": "code",
      "source": [
        "x = 0\n",
        "y = 20\n",
        "\n",
        "while y >= 6:\n",
        "  y = y-4\n",
        "  x = x + 2/y\n",
        "\n",
        "print(\" x =\", x)"
      ],
      "metadata": {
        "colab": {
          "base_uri": "https://localhost:8080/"
        },
        "id": "Q4K1LtyHIVA6",
        "outputId": "1a4fcaa1-c1e1-4f51-e1e2-733ea91b3c6e"
      },
      "execution_count": 36,
      "outputs": [
        {
          "output_type": "stream",
          "name": "stdout",
          "text": [
            " x = 1.0416666666666665\n"
          ]
        }
      ]
    },
    {
      "cell_type": "code",
      "source": [
        "\n",
        "values = []\n",
        "for i in range(5):\n",
        "  num = float(input(f\"Enter values {i+1}:\"))\n",
        "  values.append(num)\n",
        "\n",
        "average = sum(values)/len(values)\n",
        "\n",
        "print(\"The average is:\", average)"
      ],
      "metadata": {
        "colab": {
          "base_uri": "https://localhost:8080/"
        },
        "id": "MZFf_pM-KJ0z",
        "outputId": "f83304b2-7929-4842-ea64-796998babc90"
      },
      "execution_count": 44,
      "outputs": [
        {
          "output_type": "stream",
          "name": "stdout",
          "text": [
            "Enter values 1:8\n",
            "Enter values 2:9\n",
            "Enter values 3:0\n",
            "Enter values 4:0\n",
            "Enter values 5:1\n",
            "The average is: 3.6\n"
          ]
        }
      ]
    }
  ]
}